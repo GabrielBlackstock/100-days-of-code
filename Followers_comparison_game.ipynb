{
  "nbformat": 4,
  "nbformat_minor": 0,
  "metadata": {
    "colab": {
      "provenance": []
    },
    "kernelspec": {
      "name": "python3",
      "display_name": "Python 3"
    },
    "language_info": {
      "name": "python"
    }
  },
  "cells": [
    {
      "cell_type": "code",
      "execution_count": null,
      "metadata": {
        "id": "WP0_3hf7lvLX"
      },
      "outputs": [],
      "source": [
        "# Score initialisation\n",
        "score = 0\n",
        "\n",
        "# Function logic\n",
        "def a_answer(input):\n",
        "    if followers == \"a\":\n",
        "      global score\n",
        "      score += 1\n",
        "      print(f\"You're right! Current score: {score}\")\n",
        "    elif followers == \"b\":\n",
        "      print(f\"Sorry that's wrong. Final score: {score}\")\n",
        "\n",
        "def b_answer(input):\n",
        "    if followers == \"b\":\n",
        "      global score\n",
        "      score += 1\n",
        "      print(f\"You're right! Current score: {score}\")\n",
        "    elif followers == \"a\":\n",
        "      print(f\"Sorry that's wrong. Final score: {score}\")\n",
        "\n",
        "# User input function\n",
        "def compare():\n",
        "  followers = input(\"Who has more followers? Type a or b\\n\").lower()\n",
        "  return followers\n",
        "\n",
        "# Loop logic\n",
        "comparison = True\n",
        "while comparison:\n",
        "  print(\"Compare A: Ronaldo, a Footballer from Portugal\")\n",
        "  print(\"Against B, Kim Kardashian, a reality tv personality from United States\")\n",
        "  followers = compare()\n",
        "  a_answer(followers)\n",
        "  if followers == \"b\":\n",
        "    break\n",
        "\n",
        "  print(\"Compare A: Neymar, a Footballer from Brazil\")\n",
        "  print(\"Against B, Khloe Kardashian, a reality tv personality from United States\")\n",
        "  followers = compare()\n",
        "  a_answer(followers)\n",
        "  if followers == \"b\":\n",
        "    break\n",
        "\n",
        "  print(\"Compare A: Shakira, a singer from Colombia\")\n",
        "  print(\"Against B, Beyonce, a singer from United States\")\n",
        "  followers = compare()\n",
        "  b_answer(followers)\n",
        "  if followers == \"a\":\n",
        "    break\n",
        "\n",
        "  print(\"Compare A: Gabriel, a finance bro from Dudley\")\n",
        "  print(\"Against B, Rohit, a tech bro from Watford\")\n",
        "  followers = compare()\n",
        "  b_answer(followers)\n",
        "  if followers == \"a\":\n",
        "    break\n",
        "\n",
        "  comparison = False\n",
        "\n",
        "  print(f\"You completed all comparisons successfully, your final score is: {score}\")"
      ]
    }
  ]
}