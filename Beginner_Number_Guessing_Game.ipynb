{
  "nbformat": 4,
  "nbformat_minor": 0,
  "metadata": {
    "colab": {
      "provenance": []
    },
    "kernelspec": {
      "name": "python3",
      "display_name": "Python 3"
    },
    "language_info": {
      "name": "python"
    }
  },
  "cells": [
    {
      "cell_type": "code",
      "execution_count": null,
      "metadata": {
        "id": "I5RLwTR7taZM"
      },
      "outputs": [],
      "source": [
        "# Challenge from 100 days of code\n",
        "\n",
        "import random\n",
        "\n",
        "print(\"Welcome to the number guessing game\")\n",
        "print(\"I'm thinking of a number between 1 and 100\")\n",
        "\n",
        "random = random.randint(1,100)\n",
        "\n",
        "hard_count = 5\n",
        "easy_count = 10\n",
        "\n",
        "while True:\n",
        "  difficulty = input(\"Choose a difficulty. Type easy or hard\").lower()\n",
        "  if difficulty == \"easy\":\n",
        "    print(\"You have 10 attempts to guess the number\")\n",
        "    break\n",
        "  elif difficulty == \"hard\":\n",
        "    print(\"You have 5 attempts to guess the number\")\n",
        "    break\n",
        "  else:\n",
        "    print(\"Error. Enter a correct input\")\n",
        "    continue\n",
        "\n",
        "while hard_count > 1 or easy_count > 1:\n",
        "\n",
        "  guess = int(input(\"Make a guess\")) # Guessed number\n",
        "\n",
        "  if difficulty == \"hard\":\n",
        "    if guess == random:\n",
        "      print(\"You won the game\")\n",
        "      break\n",
        "    elif guess < random:\n",
        "      print(\"Too low\")\n",
        "      print(\"Guess again\")\n",
        "      hard_count -= 1\n",
        "      print(f\"You have {hard_count} attempts remaining to guess the number\")\n",
        "    elif guess > random:\n",
        "      print(\"Too high\")\n",
        "      print(\"Guess again\")\n",
        "      hard_count -= 1\n",
        "      print(f\"You have {hard_count} attempts remaining to guess the number\")\n",
        "    elif hard_count < 1:\n",
        "      print(\"You have no more attempts remaining to guess the number\")\n",
        "      break\n",
        "\n",
        "  if difficulty == \"easy\":\n",
        "    if guess == random:\n",
        "      print(\"You won the game\")\n",
        "      break\n",
        "    elif guess < random:\n",
        "      print(\"Too low\")\n",
        "      print(\"Guess again\")\n",
        "      easy_count -= 1\n",
        "      print(f\"You have {easy_count} attempts remaining to guess the number\")\n",
        "    elif guess > random:\n",
        "      print(\"Too high\")\n",
        "      print(\"Guess again\")\n",
        "      easy_count -= 1\n",
        "      print(f\"You have {easy_count} attempts remaining to guess the number\")\n",
        "    elif easy_count < 1:\n",
        "      print(\"You have no more attempts remaining to guess the number\")\n",
        "      break"
      ]
    }
  ]
}